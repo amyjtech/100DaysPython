{
 "cells": [
  {
   "cell_type": "code",
   "execution_count": 1,
   "id": "7d1a533a",
   "metadata": {},
   "outputs": [],
   "source": [
    "# NumPy Tutorial - Python Engineer"
   ]
  },
  {
   "cell_type": "code",
   "execution_count": 2,
   "id": "70abb2a4",
   "metadata": {},
   "outputs": [],
   "source": [
    "import numpy as np"
   ]
  },
  {
   "cell_type": "code",
   "execution_count": 3,
   "id": "348b477c",
   "metadata": {},
   "outputs": [],
   "source": [
    "# NumPy Array"
   ]
  },
  {
   "cell_type": "code",
   "execution_count": 4,
   "id": "0ad42f40",
   "metadata": {},
   "outputs": [
    {
     "name": "stdout",
     "output_type": "stream",
     "text": [
      "[1 2 3 4 5]\n",
      "(5,)\n",
      "int64\n",
      "1\n",
      "5\n",
      "8\n"
     ]
    }
   ],
   "source": [
    "a = np.array([1,2,3,4,5])\n",
    "\n",
    "print(a)\n",
    "print(a.shape) # Shape of the array\n",
    "print(a.dtype) # Type of the element\n",
    "print(a.ndim) # Number of dimensions\n",
    "print(a.size) # Total number of elements\n",
    "print (a.itemsize) # Size of bytes in each element"
   ]
  },
  {
   "cell_type": "code",
   "execution_count": 5,
   "id": "3244aebc",
   "metadata": {},
   "outputs": [],
   "source": [
    "##################\n",
    "\n",
    "##################"
   ]
  },
  {
   "cell_type": "code",
   "execution_count": 6,
   "id": "78eab0b5",
   "metadata": {},
   "outputs": [],
   "source": [
    "# Essential Methods"
   ]
  },
  {
   "cell_type": "code",
   "execution_count": 7,
   "id": "bd03084d",
   "metadata": {
    "scrolled": true
   },
   "outputs": [
    {
     "name": "stdout",
     "output_type": "stream",
     "text": [
      "1\n"
     ]
    }
   ],
   "source": [
    "# Access and change the elements\n",
    "\n",
    "print(a[0])"
   ]
  },
  {
   "cell_type": "code",
   "execution_count": 8,
   "id": "513ed4eb",
   "metadata": {},
   "outputs": [
    {
     "name": "stdout",
     "output_type": "stream",
     "text": [
      "5\n"
     ]
    }
   ],
   "source": [
    "a[0] = 5\n",
    "\n",
    "print(a[0])"
   ]
  },
  {
   "cell_type": "code",
   "execution_count": 9,
   "id": "bf6a0ef5",
   "metadata": {},
   "outputs": [
    {
     "name": "stdout",
     "output_type": "stream",
     "text": [
      "[5 2 3 4 5]\n"
     ]
    }
   ],
   "source": [
    "print(a)"
   ]
  },
  {
   "cell_type": "code",
   "execution_count": 10,
   "id": "8687b296",
   "metadata": {},
   "outputs": [],
   "source": [
    "# Changed the first element from 1 to 5"
   ]
  },
  {
   "cell_type": "code",
   "execution_count": 11,
   "id": "f9a5997e",
   "metadata": {},
   "outputs": [],
   "source": [
    "# Math operations with elements"
   ]
  },
  {
   "cell_type": "code",
   "execution_count": 12,
   "id": "0cba09df",
   "metadata": {},
   "outputs": [],
   "source": [
    "b = a * np.array([2,0,2,0,2])"
   ]
  },
  {
   "cell_type": "code",
   "execution_count": 13,
   "id": "52042609",
   "metadata": {},
   "outputs": [
    {
     "name": "stdout",
     "output_type": "stream",
     "text": [
      "[10  0  6  0 10]\n"
     ]
    }
   ],
   "source": [
    "print(b) # Print results of math operation above"
   ]
  },
  {
   "cell_type": "code",
   "execution_count": 14,
   "id": "7b032dce",
   "metadata": {},
   "outputs": [
    {
     "name": "stdout",
     "output_type": "stream",
     "text": [
      "26\n"
     ]
    }
   ],
   "source": [
    "print(b.sum()) # Sum of numbers in array b"
   ]
  },
  {
   "cell_type": "code",
   "execution_count": 15,
   "id": "8f1f32b3",
   "metadata": {},
   "outputs": [],
   "source": [
    "##################\n",
    "\n",
    "##################"
   ]
  },
  {
   "cell_type": "code",
   "execution_count": 16,
   "id": "e7aecd06",
   "metadata": {},
   "outputs": [],
   "source": [
    "# NumPy Array vs List"
   ]
  },
  {
   "cell_type": "code",
   "execution_count": 17,
   "id": "fc0a90d8",
   "metadata": {},
   "outputs": [],
   "source": [
    "l = [1,2,3]\n",
    "a = np.array([3,2,1]) # Creates an array from a list"
   ]
  },
  {
   "cell_type": "code",
   "execution_count": 18,
   "id": "d8dd0a47",
   "metadata": {},
   "outputs": [
    {
     "name": "stdout",
     "output_type": "stream",
     "text": [
      "List\n",
      "[1, 2, 3]\n",
      "Array\n",
      "[3 2 1]\n"
     ]
    }
   ],
   "source": [
    "print(f\"List\\n{l}\")\n",
    "print(f\"Array\\n{a}\")"
   ]
  },
  {
   "cell_type": "code",
   "execution_count": 19,
   "id": "41411ac3",
   "metadata": {},
   "outputs": [],
   "source": [
    "# Multiply *"
   ]
  },
  {
   "cell_type": "code",
   "execution_count": 20,
   "id": "fbf2040d",
   "metadata": {},
   "outputs": [
    {
     "name": "stdout",
     "output_type": "stream",
     "text": [
      "[1, 2, 3, 1, 2, 3]\n"
     ]
    }
   ],
   "source": [
    "l2 = 2 * l # List repeated 2 times, same as l+l\n",
    "print(l2)"
   ]
  },
  {
   "cell_type": "code",
   "execution_count": 21,
   "id": "4c9e9c6e",
   "metadata": {},
   "outputs": [],
   "source": [
    "# The list will repeat itself however many times it is mulitplied"
   ]
  },
  {
   "cell_type": "code",
   "execution_count": 22,
   "id": "44a0b79d",
   "metadata": {},
   "outputs": [
    {
     "name": "stdout",
     "output_type": "stream",
     "text": [
      "[6 4 2]\n"
     ]
    }
   ],
   "source": [
    "a2 = 2 * a # Multplication for each element\n",
    "print(a2)"
   ]
  },
  {
   "cell_type": "code",
   "execution_count": 23,
   "id": "94af00fb",
   "metadata": {},
   "outputs": [],
   "source": [
    "# Note: Function applied to array usually applies to each element"
   ]
  },
  {
   "cell_type": "code",
   "execution_count": 24,
   "id": "c10734b0",
   "metadata": {},
   "outputs": [],
   "source": [
    "##################\n",
    "\n",
    "##################"
   ]
  },
  {
   "cell_type": "code",
   "execution_count": 25,
   "id": "d4688c16",
   "metadata": {},
   "outputs": [],
   "source": [
    "# Dot Product"
   ]
  },
  {
   "cell_type": "code",
   "execution_count": 26,
   "id": "ba08c213",
   "metadata": {},
   "outputs": [],
   "source": [
    "a = np.array([1,2])\n",
    "b = np.array([3,4])"
   ]
  },
  {
   "cell_type": "code",
   "execution_count": 27,
   "id": "618f4281",
   "metadata": {},
   "outputs": [
    {
     "name": "stdout",
     "output_type": "stream",
     "text": [
      "11\n"
     ]
    }
   ],
   "source": [
    "# Manual way for solving Dot Product\n",
    "dot = 0\n",
    "for i in range(len(a)):\n",
    "    dot += a[i] * b[i]\n",
    "print(dot)"
   ]
  },
  {
   "cell_type": "code",
   "execution_count": 28,
   "id": "ecc93cd9",
   "metadata": {},
   "outputs": [
    {
     "name": "stdout",
     "output_type": "stream",
     "text": [
      "11\n"
     ]
    }
   ],
   "source": [
    "# NumPy way for solving Dot Product\n",
    "dot2 = np.dot(a,b)\n",
    "print(dot2)"
   ]
  },
  {
   "cell_type": "code",
   "execution_count": 29,
   "id": "51020576",
   "metadata": {},
   "outputs": [
    {
     "name": "stdout",
     "output_type": "stream",
     "text": [
      "11\n"
     ]
    }
   ],
   "source": [
    "# Instance method for solving Dot Product\n",
    "dot3 = a.dot(b)\n",
    "print(dot3)"
   ]
  },
  {
   "cell_type": "code",
   "execution_count": 30,
   "id": "9c939b6d",
   "metadata": {},
   "outputs": [
    {
     "name": "stdout",
     "output_type": "stream",
     "text": [
      "11\n"
     ]
    }
   ],
   "source": [
    "# Newer versions let you use @ sign\n",
    "dot4 = a @ b\n",
    "print(dot)"
   ]
  },
  {
   "cell_type": "code",
   "execution_count": 31,
   "id": "2e031a85",
   "metadata": {},
   "outputs": [],
   "source": [
    "##################\n",
    "\n",
    "##################"
   ]
  },
  {
   "cell_type": "code",
   "execution_count": 32,
   "id": "a0124191",
   "metadata": {},
   "outputs": [],
   "source": [
    "# Python List vs NumPy Array Speed Test"
   ]
  },
  {
   "cell_type": "code",
   "execution_count": 33,
   "id": "d5680fda",
   "metadata": {},
   "outputs": [],
   "source": [
    "from timeit import default_timer as timer\n",
    "a = np.random.randn(1000)\n",
    "b = np.random.randn(1000)\n",
    "\n",
    "a2 = list(a)\n",
    "b2 = list(b)\n",
    "t = 1000"
   ]
  },
  {
   "cell_type": "code",
   "execution_count": 34,
   "id": "2a0407b8",
   "metadata": {},
   "outputs": [],
   "source": [
    "def dot1(): # Python way\n",
    "    dot = 0\n",
    "    for i in range(len(a2)):\n",
    "        dot += a2[i] * b2[i]\n",
    "    return dot\n",
    "\n",
    "def dot2(): # NumPy way\n",
    "    return np.dot(a,b)\n",
    "\n",
    "# Timers\n",
    "start = timer()\n",
    "\n",
    "for i in range(t): # Timer for dot1()\n",
    "    dot1()\n",
    "end = timer()\n",
    "t1 = end-start\n",
    "\n",
    "for i in range(t): # Timer for dot2()\n",
    "    dot2()\n",
    "end = timer()\n",
    "t2 = end-start"
   ]
  },
  {
   "cell_type": "code",
   "execution_count": 35,
   "id": "530b5e43",
   "metadata": {},
   "outputs": [
    {
     "name": "stdout",
     "output_type": "stream",
     "text": [
      "Python list timer: 0.17172579199999993\n",
      "NumPy array timer: 0.17308308300000008\n",
      "Ratio: 0.9921581533187727\n"
     ]
    }
   ],
   "source": [
    "print(f\"Python list timer: {t1}\\nNumPy array timer: {t2}\\nRatio: {t1/t2}\")"
   ]
  },
  {
   "cell_type": "code",
   "execution_count": 36,
   "id": "a3eabb46",
   "metadata": {},
   "outputs": [],
   "source": [
    "##################\n",
    "\n",
    "##################"
   ]
  },
  {
   "cell_type": "code",
   "execution_count": 37,
   "id": "865b0acb",
   "metadata": {},
   "outputs": [],
   "source": [
    "# Multi-dimensional or Matrix Array"
   ]
  },
  {
   "cell_type": "code",
   "execution_count": 38,
   "id": "57900b49",
   "metadata": {},
   "outputs": [],
   "source": [
    "a = np.array([[1,2], [3,4]])"
   ]
  },
  {
   "cell_type": "code",
   "execution_count": 39,
   "id": "c0862a6b",
   "metadata": {},
   "outputs": [
    {
     "name": "stdout",
     "output_type": "stream",
     "text": [
      "[[1 2]\n",
      " [3 4]]\n"
     ]
    }
   ],
   "source": [
    "print(a)"
   ]
  },
  {
   "cell_type": "code",
   "execution_count": 40,
   "id": "c3606adf",
   "metadata": {},
   "outputs": [
    {
     "name": "stdout",
     "output_type": "stream",
     "text": [
      "(2, 2)\n"
     ]
    }
   ],
   "source": [
    "print(a.shape)"
   ]
  },
  {
   "cell_type": "code",
   "execution_count": 41,
   "id": "a3c71e90",
   "metadata": {},
   "outputs": [
    {
     "name": "stdout",
     "output_type": "stream",
     "text": [
      "Example Array:\n",
      "[[1 2]\n",
      " [3 4]]\n",
      "\n",
      "a[0]\n",
      "[1 2]\n",
      "\n",
      "a[0][0]\n",
      "1\n",
      "\n",
      "a[0,0]\n",
      "1\n"
     ]
    }
   ],
   "source": [
    "# Access elements\n",
    "# Row first, then column\n",
    "print(f\"Example Array:\\n{a}\\n\")\n",
    "\n",
    "# Option a[0]\n",
    "print(f\"a[0]\\n{a[0]}\\n\")\n",
    "\n",
    "# Same as a[0][0]\n",
    "print(f\"a[0][0]\\n{a[0][0]}\\n\")\n",
    "\n",
    "# or a[0,0]\n",
    "print(f\"a[0,0]\\n{a[0,0]}\")"
   ]
  },
  {
   "cell_type": "code",
   "execution_count": 42,
   "id": "7f285df4",
   "metadata": {},
   "outputs": [
    {
     "name": "stdout",
     "output_type": "stream",
     "text": [
      "Example Array:\n",
      "[[1 2]\n",
      " [3 4]]\n",
      "\n",
      "Rows\n",
      "[1 3]\n",
      "\n",
      "Columns\n",
      "[1 2]\n"
     ]
    }
   ],
   "source": [
    "# Slicing\n",
    "print(f\"Example Array:\\n{a}\\n\")\n",
    "\n",
    "print(f\"Rows\\n{a[:,0]}\\n\") # All rows in col 0 - a[:,0]\n",
    "print(f\"Columns\\n{a[0,:]}\") # All columns in row 0 - a[0,:]"
   ]
  },
  {
   "cell_type": "code",
   "execution_count": 43,
   "id": "01db4808",
   "metadata": {},
   "outputs": [],
   "source": [
    "# Transpose Matrix"
   ]
  },
  {
   "cell_type": "code",
   "execution_count": 44,
   "id": "9138cb16",
   "metadata": {},
   "outputs": [
    {
     "name": "stdout",
     "output_type": "stream",
     "text": [
      "[[1 3]\n",
      " [2 4]]\n"
     ]
    }
   ],
   "source": [
    "print(a.T) # Original [[1 2]\n",
    "#                     [3 4]]"
   ]
  },
  {
   "cell_type": "code",
   "execution_count": 45,
   "id": "2b669dcc",
   "metadata": {},
   "outputs": [],
   "source": [
    "# Matrix Multiply *"
   ]
  },
  {
   "cell_type": "code",
   "execution_count": 46,
   "id": "6c380a62",
   "metadata": {},
   "outputs": [],
   "source": [
    "b = np.array([[3,4],[5,6]])\n",
    "c = a.dot(b) # Calculating dot product\n",
    "d = a * b # Elements will multiply"
   ]
  },
  {
   "cell_type": "code",
   "execution_count": 47,
   "id": "2c5e6528",
   "metadata": {},
   "outputs": [
    {
     "name": "stdout",
     "output_type": "stream",
     "text": [
      "Array 'a'\n",
      "[[1 2]\n",
      " [3 4]]\n",
      "\n",
      "Array 'b'\n",
      "[[3 4]\n",
      " [5 6]]\n",
      "\n",
      "Dot Product\n",
      "[[13 16]\n",
      " [29 36]]\n",
      "\n",
      "Elementwise Multiplication\n",
      "[[ 3  8]\n",
      " [15 24]]\n"
     ]
    }
   ],
   "source": [
    "print(f\"Array 'a'\\n{a}\\n\")\n",
    "\n",
    "print(f\"Array 'b'\\n{b}\\n\")\n",
    "\n",
    "print(f\"Dot Product\\n{c}\\n\")\n",
    "\n",
    "print(f\"Elementwise Multiplication\\n{d}\")"
   ]
  },
  {
   "cell_type": "code",
   "execution_count": 48,
   "id": "5d8fa106",
   "metadata": {},
   "outputs": [],
   "source": [
    "# Determinant"
   ]
  },
  {
   "cell_type": "code",
   "execution_count": 49,
   "id": "6239c010",
   "metadata": {},
   "outputs": [
    {
     "name": "stdout",
     "output_type": "stream",
     "text": [
      "-2.0000000000000004\n"
     ]
    }
   ],
   "source": [
    "c = np.linalg.det(a) # linalg is for the Linear Algebra package\n",
    "print(c)"
   ]
  },
  {
   "cell_type": "code",
   "execution_count": 50,
   "id": "035fce07",
   "metadata": {},
   "outputs": [],
   "source": [
    "# Inverse"
   ]
  },
  {
   "cell_type": "code",
   "execution_count": 51,
   "id": "8231aa44",
   "metadata": {},
   "outputs": [
    {
     "name": "stdout",
     "output_type": "stream",
     "text": [
      "[[-2.   1. ]\n",
      " [ 1.5 -0.5]]\n"
     ]
    }
   ],
   "source": [
    "c = np.linalg.inv(a)\n",
    "print(c)"
   ]
  },
  {
   "cell_type": "code",
   "execution_count": 52,
   "id": "74cf2b5c",
   "metadata": {},
   "outputs": [],
   "source": [
    "# Diagnoal / diag"
   ]
  },
  {
   "cell_type": "code",
   "execution_count": 53,
   "id": "d61401fd",
   "metadata": {},
   "outputs": [
    {
     "name": "stdout",
     "output_type": "stream",
     "text": [
      "Original array\n",
      "[[1 2]\n",
      " [3 4]]\n",
      "\n",
      "Diag array\n",
      "[1 4]\n"
     ]
    }
   ],
   "source": [
    "c = np.diag(a)\n",
    "print(f\"Original array\\n{a}\\n\")\n",
    "print(f\"Diag array\\n{c}\")"
   ]
  },
  {
   "cell_type": "code",
   "execution_count": 54,
   "id": "6e0c789e",
   "metadata": {},
   "outputs": [],
   "source": [
    "##################\n",
    "\n",
    "##################"
   ]
  },
  {
   "cell_type": "code",
   "execution_count": 55,
   "id": "5e547070",
   "metadata": {},
   "outputs": [],
   "source": [
    "# Indexing, Slicing & Boolean Indexing\n",
    "# Slicing: Similar to Python lists, NumPy arrays can be sliced\n",
    "# Since arrays are multidimensional, you must specify\n",
    "# for the dimension of the array:"
   ]
  },
  {
   "cell_type": "code",
   "execution_count": 56,
   "id": "baed5c44",
   "metadata": {},
   "outputs": [
    {
     "name": "stdout",
     "output_type": "stream",
     "text": [
      "[[ 1  2  3  4]\n",
      " [ 5  6  7  8]\n",
      " [ 9 10 11 12]]\n"
     ]
    }
   ],
   "source": [
    "a = np.array([[1,2,3,4],[5,6,7,8],[9,10,11,12]])\n",
    "\n",
    "print(a)"
   ]
  },
  {
   "cell_type": "code",
   "execution_count": 57,
   "id": "e3bc8d46",
   "metadata": {},
   "outputs": [
    {
     "name": "stdout",
     "output_type": "stream",
     "text": [
      "2\n"
     ]
    }
   ],
   "source": [
    "# Int array indexing\n",
    "b = a[0,1] # row 0, column 1\n",
    "print(b)"
   ]
  },
  {
   "cell_type": "code",
   "execution_count": 58,
   "id": "f1ca377f",
   "metadata": {},
   "outputs": [
    {
     "name": "stdout",
     "output_type": "stream",
     "text": [
      "[1 2 3 4]\n"
     ]
    }
   ],
   "source": [
    "# Slicing\n",
    "row0 = a[0,:] # row 0, all columns\n",
    "print(row0)"
   ]
  },
  {
   "cell_type": "code",
   "execution_count": 59,
   "id": "31f8b455",
   "metadata": {},
   "outputs": [
    {
     "name": "stdout",
     "output_type": "stream",
     "text": [
      "[1 5 9]\n"
     ]
    }
   ],
   "source": [
    "col0 = a[:,0] # all rows, column 0\n",
    "print(col0)"
   ]
  },
  {
   "cell_type": "code",
   "execution_count": 60,
   "id": "c1720f63",
   "metadata": {},
   "outputs": [
    {
     "name": "stdout",
     "output_type": "stream",
     "text": [
      "[[2 3]\n",
      " [6 7]]\n"
     ]
    }
   ],
   "source": [
    "slice_a = a[0:2,1:3] # -\n",
    "print(slice_a)"
   ]
  },
  {
   "cell_type": "code",
   "execution_count": 61,
   "id": "1c7b0f07",
   "metadata": {},
   "outputs": [
    {
     "name": "stdout",
     "output_type": "stream",
     "text": [
      "12\n"
     ]
    }
   ],
   "source": [
    "# Indexing starting from the end (-1, -2)\n",
    "last = a[-1,-1] # prints the last element in the array\n",
    "print(last)"
   ]
  },
  {
   "cell_type": "code",
   "execution_count": 62,
   "id": "572841e2",
   "metadata": {},
   "outputs": [
    {
     "name": "stdout",
     "output_type": "stream",
     "text": [
      "[[1 2]\n",
      " [3 4]\n",
      " [5 6]]\n"
     ]
    }
   ],
   "source": [
    "# Boolean index\n",
    "a = np.array([[1,2],[3,4],[5,6]])\n",
    "print(a)"
   ]
  },
  {
   "cell_type": "code",
   "execution_count": 63,
   "id": "86a31227",
   "metadata": {},
   "outputs": [
    {
     "name": "stdout",
     "output_type": "stream",
     "text": [
      "[[False False]\n",
      " [ True  True]\n",
      " [ True  True]]\n"
     ]
    }
   ],
   "source": [
    "# same shape with True or False for the condition\n",
    "bool = a > 2 # checks each element and returns true/false\n",
    "print(bool)"
   ]
  },
  {
   "cell_type": "code",
   "execution_count": 64,
   "id": "92670e78",
   "metadata": {},
   "outputs": [
    {
     "name": "stdout",
     "output_type": "stream",
     "text": [
      "[3 4 5 6]\n"
     ]
    }
   ],
   "source": [
    "print(a[bool]) # returns all true elements"
   ]
  },
  {
   "cell_type": "code",
   "execution_count": 65,
   "id": "495e5c5e",
   "metadata": {},
   "outputs": [],
   "source": [
    "##################\n",
    "\n",
    "##################"
   ]
  },
  {
   "cell_type": "code",
   "execution_count": 66,
   "id": "407158da",
   "metadata": {},
   "outputs": [],
   "source": [
    "# Reshaping - 1D Array"
   ]
  },
  {
   "cell_type": "code",
   "execution_count": 67,
   "id": "693e442f",
   "metadata": {},
   "outputs": [
    {
     "name": "stdout",
     "output_type": "stream",
     "text": [
      "[1 2 3 4 5 6]\n"
     ]
    }
   ],
   "source": [
    "a = np.arange(1,7)\n",
    "print(a)"
   ]
  },
  {
   "cell_type": "code",
   "execution_count": 68,
   "id": "c426ed68",
   "metadata": {},
   "outputs": [
    {
     "name": "stdout",
     "output_type": "stream",
     "text": [
      "[[1 2 3]\n",
      " [4 5 6]]\n"
     ]
    }
   ],
   "source": [
    "b = a.reshape(2,3) # makes array with: 2 rows, 3 cols\n",
    "print(b)"
   ]
  },
  {
   "cell_type": "code",
   "execution_count": 69,
   "id": "bc9a5327",
   "metadata": {},
   "outputs": [
    {
     "name": "stdout",
     "output_type": "stream",
     "text": [
      "[[1 2]\n",
      " [3 4]\n",
      " [5 6]]\n"
     ]
    }
   ],
   "source": [
    "c = a.reshape(3,2) # 3 rows, 3 cols\n",
    "print(c)"
   ]
  },
  {
   "cell_type": "code",
   "execution_count": 70,
   "id": "314383ba",
   "metadata": {},
   "outputs": [
    {
     "ename": "ValueError",
     "evalue": "cannot reshape array of size 6 into shape (2,4)",
     "output_type": "error",
     "traceback": [
      "\u001b[0;31m---------------------------------------------------------------------------\u001b[0m",
      "\u001b[0;31mValueError\u001b[0m                                Traceback (most recent call last)",
      "\u001b[0;32m<ipython-input-70-86fce1157b42>\u001b[0m in \u001b[0;36m<module>\u001b[0;34m\u001b[0m\n\u001b[0;32m----> 1\u001b[0;31m \u001b[0md\u001b[0m \u001b[0;34m=\u001b[0m \u001b[0ma\u001b[0m\u001b[0;34m.\u001b[0m\u001b[0mreshape\u001b[0m\u001b[0;34m(\u001b[0m\u001b[0;36m2\u001b[0m\u001b[0;34m,\u001b[0m\u001b[0;36m4\u001b[0m\u001b[0;34m)\u001b[0m \u001b[0;31m# should give error\u001b[0m\u001b[0;34m\u001b[0m\u001b[0;34m\u001b[0m\u001b[0m\n\u001b[0m",
      "\u001b[0;31mValueError\u001b[0m: cannot reshape array of size 6 into shape (2,4)"
     ]
    }
   ],
   "source": [
    "d = a.reshape(2,4) # should give error"
   ]
  },
  {
   "cell_type": "code",
   "execution_count": null,
   "id": "1fde659d",
   "metadata": {},
   "outputs": [],
   "source": [
    "# newaxis function is used to create a new axis in the data\n",
    "# needed when model requires the data to be shaped in\n",
    "# a specific manner."
   ]
  },
  {
   "cell_type": "code",
   "execution_count": 71,
   "id": "f33a8cde",
   "metadata": {},
   "outputs": [
    {
     "name": "stdout",
     "output_type": "stream",
     "text": [
      "[1 2 3 4 5 6]\n",
      "a.shape\n",
      "(6,)\n"
     ]
    }
   ],
   "source": [
    "print(f\"{a}\\na.shape\\n{a.shape}\")"
   ]
  },
  {
   "cell_type": "code",
   "execution_count": 72,
   "id": "b0742668",
   "metadata": {},
   "outputs": [
    {
     "name": "stdout",
     "output_type": "stream",
     "text": [
      "[[1 2 3 4 5 6]]\n",
      "(1, 6)\n"
     ]
    }
   ],
   "source": [
    "d = a[np.newaxis, :]\n",
    "print(f\"{d}\\n{d.shape}\") # ML (machine learning models) \n",
    "#                          expect data in this format"
   ]
  },
  {
   "cell_type": "code",
   "execution_count": 73,
   "id": "3d28ef8a",
   "metadata": {},
   "outputs": [],
   "source": [
    "##################\n",
    "\n",
    "##################"
   ]
  },
  {
   "cell_type": "code",
   "execution_count": 74,
   "id": "50720cc5",
   "metadata": {},
   "outputs": [],
   "source": [
    "# Concatenation"
   ]
  },
  {
   "cell_type": "code",
   "execution_count": 80,
   "id": "5eaaca26",
   "metadata": {},
   "outputs": [
    {
     "name": "stdout",
     "output_type": "stream",
     "text": [
      "array 'a'\n",
      "[[1 2]\n",
      " [3 4]]\n",
      "array 'b'\n",
      "[[5 6]\n",
      " [7 8]]\n"
     ]
    }
   ],
   "source": [
    "a = np.array([[1,2],[3,4]])\n",
    "b = np.array([[5,6],[7,8]])\n",
    "\n",
    "print(f\"array 'a'\\n{a}\\narray 'b'\\n{b}\")"
   ]
  },
  {
   "cell_type": "code",
   "execution_count": 150,
   "id": "29a12123",
   "metadata": {},
   "outputs": [],
   "source": [
    "# combine into 1-dimensional array\n",
    "c = np.concatenate((a,b), axis=None) # axis=None is same as default"
   ]
  },
  {
   "cell_type": "code",
   "execution_count": 149,
   "id": "7cdd4d29",
   "metadata": {},
   "outputs": [
    {
     "name": "stdout",
     "output_type": "stream",
     "text": [
      "[1 2 3]\n",
      "\n",
      "[42  2  3]\n",
      "\n",
      "e 'combine a,b':\n",
      "[[1 2 5 7]\n",
      " [3 4 6 8]]\n"
     ]
    }
   ],
   "source": [
    "print(f\"{a}\\n\\n{b}\\n\\ne 'combine a,b':\\n{e}\")"
   ]
  },
  {
   "cell_type": "code",
   "execution_count": 83,
   "id": "5c19f482",
   "metadata": {},
   "outputs": [],
   "source": [
    "# add a new row using axis=0"
   ]
  },
  {
   "cell_type": "code",
   "execution_count": 84,
   "id": "8b500129",
   "metadata": {},
   "outputs": [],
   "source": [
    "d = np.concatenate((a,b),axis=0) # axis=0 adds a new row"
   ]
  },
  {
   "cell_type": "code",
   "execution_count": 101,
   "id": "fa0abc9e",
   "metadata": {},
   "outputs": [
    {
     "name": "stdout",
     "output_type": "stream",
     "text": [
      "[[1 2]\n",
      " [3 4]]\n",
      "\n",
      "[[5 6]\n",
      " [7 8]]\n",
      "\n",
      "d 'add new row':\n",
      "[[1 2]\n",
      " [3 4]\n",
      " [5 6]\n",
      " [7 8]]\n"
     ]
    }
   ],
   "source": [
    "print(f\"{a}\\n\\n{b}\\n\\nd 'add new row':\\n{d}\")"
   ]
  },
  {
   "cell_type": "code",
   "execution_count": 86,
   "id": "3c3430fc",
   "metadata": {},
   "outputs": [],
   "source": [
    "# add a new col using axis=1"
   ]
  },
  {
   "cell_type": "code",
   "execution_count": 103,
   "id": "e9590bbc",
   "metadata": {},
   "outputs": [],
   "source": [
    "e = np.concatenate((a,b.T),axis=1) # b must be transposed (.T)"
   ]
  },
  {
   "cell_type": "code",
   "execution_count": 102,
   "id": "0606f0b4",
   "metadata": {},
   "outputs": [
    {
     "name": "stdout",
     "output_type": "stream",
     "text": [
      "[[1 2]\n",
      " [3 4]]\n",
      "\n",
      "[[5 6]\n",
      " [7 8]]\n",
      "\n",
      "e 'add new col':\n",
      "[[1 2 5 7]\n",
      " [3 4 6 8]]\n"
     ]
    }
   ],
   "source": [
    "print(f\"{a}\\n\\n{b}\\n\\ne 'add new col':\\n{e}\")"
   ]
  },
  {
   "cell_type": "code",
   "execution_count": 104,
   "id": "11feef43",
   "metadata": {},
   "outputs": [],
   "source": [
    "##################\n",
    "\n",
    "##################"
   ]
  },
  {
   "cell_type": "code",
   "execution_count": 105,
   "id": "a141cbde",
   "metadata": {},
   "outputs": [],
   "source": [
    "# Broadcasting"
   ]
  },
  {
   "cell_type": "code",
   "execution_count": 107,
   "id": "8138731e",
   "metadata": {},
   "outputs": [
    {
     "name": "stdout",
     "output_type": "stream",
     "text": [
      "[[ 2  2  4]\n",
      " [ 5  5  7]\n",
      " [11 11 13]]\n"
     ]
    }
   ],
   "source": [
    "a = np.array([[1,2,3],[4,5,6],[10,11,12]])\n",
    "b = np.array([1,0,1])\n",
    "\n",
    "c = a + b # add 'b' to each row of 'a' using broadcasting\n",
    "print(c)"
   ]
  },
  {
   "cell_type": "code",
   "execution_count": 108,
   "id": "d734ff13",
   "metadata": {},
   "outputs": [],
   "source": [
    "##################\n",
    "\n",
    "##################"
   ]
  },
  {
   "cell_type": "code",
   "execution_count": 116,
   "id": "e5253cff",
   "metadata": {
    "scrolled": true
   },
   "outputs": [
    {
     "name": "stdout",
     "output_type": "stream",
     "text": [
      "[[ 7  8  9 10 11 12 13]\n",
      " [17 18 19 20 21 22 23]]\n"
     ]
    }
   ],
   "source": [
    "# Functions & Axis\n",
    "\n",
    "a = np.array([[7,8,9,10,11,12,13],[17,18,19,20,21,22,23]])\n",
    "print(a)"
   ]
  },
  {
   "cell_type": "code",
   "execution_count": null,
   "id": "9033c631",
   "metadata": {},
   "outputs": [],
   "source": [
    "# Add / sum"
   ]
  },
  {
   "cell_type": "code",
   "execution_count": 117,
   "id": "73f42699",
   "metadata": {},
   "outputs": [
    {
     "name": "stdout",
     "output_type": "stream",
     "text": [
      "a.sum()\n",
      "210\n"
     ]
    }
   ],
   "source": [
    "print(f\"a.sum()\\n{a.sum()}\") # default=None, if not specified"
   ]
  },
  {
   "cell_type": "code",
   "execution_count": 118,
   "id": "d750b3eb",
   "metadata": {},
   "outputs": [
    {
     "name": "stdout",
     "output_type": "stream",
     "text": [
      "a.sum(axis=None)\n",
      "210\n"
     ]
    }
   ],
   "source": [
    "print(f\"a.sum(axis=None)\\n{a.sum(axis=None)}\") # overall sum"
   ]
  },
  {
   "cell_type": "code",
   "execution_count": 119,
   "id": "881f48c6",
   "metadata": {},
   "outputs": [
    {
     "name": "stdout",
     "output_type": "stream",
     "text": [
      "a.sum(axis=0)\n",
      "[24 26 28 30 32 34 36]\n"
     ]
    }
   ],
   "source": [
    "print(f\"a.sum(axis=0)\\n{a.sum(axis=0)}\") # sum along the rows"
   ]
  },
  {
   "cell_type": "code",
   "execution_count": 120,
   "id": "2486b9ec",
   "metadata": {},
   "outputs": [
    {
     "name": "stdout",
     "output_type": "stream",
     "text": [
      "a.sum(axis=1)\n",
      "[ 70 140]\n"
     ]
    }
   ],
   "source": [
    "print(f\"a.sum(axis=1)\\n{a.sum(axis=1)}\") # sum along the cols"
   ]
  },
  {
   "cell_type": "code",
   "execution_count": null,
   "id": "981450ac",
   "metadata": {},
   "outputs": [],
   "source": [
    "# Average / mean"
   ]
  },
  {
   "cell_type": "code",
   "execution_count": 122,
   "id": "5c4be4b3",
   "metadata": {},
   "outputs": [
    {
     "name": "stdout",
     "output_type": "stream",
     "text": [
      "a.mean()\n",
      "15.0\n"
     ]
    }
   ],
   "source": [
    "print(f\"a.mean()\\n{a.mean()}\") # default=None, if not specified"
   ]
  },
  {
   "cell_type": "code",
   "execution_count": 125,
   "id": "d56b2c13",
   "metadata": {},
   "outputs": [
    {
     "name": "stdout",
     "output_type": "stream",
     "text": [
      "a.mean(axis=None)\n",
      "15.0\n"
     ]
    }
   ],
   "source": [
    "print(f\"a.mean(axis=None)\\n{a.mean(axis=None)}\") # overall mean"
   ]
  },
  {
   "cell_type": "code",
   "execution_count": 127,
   "id": "1e03a390",
   "metadata": {},
   "outputs": [
    {
     "name": "stdout",
     "output_type": "stream",
     "text": [
      "a.mean(axis=0)\n",
      "[12. 13. 14. 15. 16. 17. 18.]\n"
     ]
    }
   ],
   "source": [
    "print(f\"a.mean(axis=0)\\n{a.mean(axis=0)}\") # 1 mean entry for each col"
   ]
  },
  {
   "cell_type": "code",
   "execution_count": 128,
   "id": "fa996a0b",
   "metadata": {},
   "outputs": [
    {
     "name": "stdout",
     "output_type": "stream",
     "text": [
      "a.mean(axis=1)\n",
      "[10. 20.]\n"
     ]
    }
   ],
   "source": [
    "print(f\"a.mean(axis=1)\\n{a.mean(axis=1)}\") # 1 mean entry for each row"
   ]
  },
  {
   "cell_type": "code",
   "execution_count": 129,
   "id": "feafba52",
   "metadata": {},
   "outputs": [],
   "source": [
    "# more options: std, var, min, max"
   ]
  },
  {
   "cell_type": "code",
   "execution_count": 130,
   "id": "07a34ab6",
   "metadata": {},
   "outputs": [],
   "source": [
    "##################\n",
    "\n",
    "##################"
   ]
  },
  {
   "cell_type": "code",
   "execution_count": 131,
   "id": "87c0c359",
   "metadata": {},
   "outputs": [],
   "source": [
    "# Copying\n",
    "# - be careful with copying -"
   ]
  },
  {
   "cell_type": "code",
   "execution_count": 142,
   "id": "13ef1398",
   "metadata": {},
   "outputs": [
    {
     "name": "stdout",
     "output_type": "stream",
     "text": [
      "a: [1 2 3]\n",
      "b: [1 2 3]\n"
     ]
    }
   ],
   "source": [
    "a = np.array([1,2,3])\n",
    "b = a.copy() # only copies reference\n",
    "\n",
    "print(f\"a: {a}\\nb: {b}\")"
   ]
  },
  {
   "cell_type": "code",
   "execution_count": 145,
   "id": "d0a58f9e",
   "metadata": {},
   "outputs": [
    {
     "name": "stdout",
     "output_type": "stream",
     "text": [
      "a: [1 2 3]\n",
      "b: [42  2  3]\n"
     ]
    }
   ],
   "source": [
    "b[0] = 42 # only changes copy\n",
    "\n",
    "print(f\"a: {a}\\nb: {b}\")"
   ]
  },
  {
   "cell_type": "code",
   "execution_count": null,
   "id": "cbffdfd3",
   "metadata": {},
   "outputs": [],
   "source": [
    "##################\n",
    "\n",
    "##################"
   ]
  }
 ],
 "metadata": {
  "kernelspec": {
   "display_name": "Python 3",
   "language": "python",
   "name": "python3"
  },
  "language_info": {
   "codemirror_mode": {
    "name": "ipython",
    "version": 3
   },
   "file_extension": ".py",
   "mimetype": "text/x-python",
   "name": "python",
   "nbconvert_exporter": "python",
   "pygments_lexer": "ipython3",
   "version": "3.8.8"
  }
 },
 "nbformat": 4,
 "nbformat_minor": 5
}
