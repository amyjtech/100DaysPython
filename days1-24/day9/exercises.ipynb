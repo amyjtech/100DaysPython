{
 "cells": [
  {
   "cell_type": "code",
   "execution_count": 5,
   "id": "29d8a71c",
   "metadata": {},
   "outputs": [],
   "source": [
    "import numpy as np"
   ]
  },
  {
   "cell_type": "code",
   "execution_count": 6,
   "id": "9dce64e8",
   "metadata": {},
   "outputs": [],
   "source": [
    "# Create an array with 2 dimensions"
   ]
  },
  {
   "cell_type": "code",
   "execution_count": 16,
   "id": "6785cb7e",
   "metadata": {},
   "outputs": [
    {
     "name": "stdout",
     "output_type": "stream",
     "text": [
      "[[1 2 3 4]]\n",
      "Shape: 2\n"
     ]
    }
   ],
   "source": [
    "a = np.array([1, 2, 3, 4], ndmin=2) # ndmin specifies # of dimensions\n",
    "print(f\"{a}\\nShape: {a.ndim}\") # ndim = # dimensions"
   ]
  },
  {
   "cell_type": "code",
   "execution_count": null,
   "id": "12aa008c",
   "metadata": {},
   "outputs": [],
   "source": []
  },
  {
   "cell_type": "code",
   "execution_count": null,
   "id": "08c280a4",
   "metadata": {},
   "outputs": [],
   "source": [
    "#%#%#%#%#%#%#%#%#%#\n",
    "# indexing arrays\n",
    "#%#%#%#%#%#%#%#%#%#"
   ]
  },
  {
   "cell_type": "code",
   "execution_count": 40,
   "id": "a637635a",
   "metadata": {},
   "outputs": [],
   "source": [
    "a = np.array([1,2,3,4,5])"
   ]
  },
  {
   "cell_type": "code",
   "execution_count": 41,
   "id": "5e02b5e8",
   "metadata": {},
   "outputs": [
    {
     "name": "stdout",
     "output_type": "stream",
     "text": [
      "1\n"
     ]
    }
   ],
   "source": [
    "# Print the first item in the array\n",
    "print(a[0])"
   ]
  },
  {
   "cell_type": "code",
   "execution_count": 43,
   "id": "c57c36de",
   "metadata": {},
   "outputs": [
    {
     "name": "stdout",
     "output_type": "stream",
     "text": [
      "5\n"
     ]
    }
   ],
   "source": [
    "# Print the last item in the array\n",
    "print(a[-1])"
   ]
  },
  {
   "cell_type": "code",
   "execution_count": 44,
   "id": "378e613c",
   "metadata": {},
   "outputs": [],
   "source": [
    "a = np.array([[10,20,30,40],[50,60,70,80]])"
   ]
  },
  {
   "cell_type": "code",
   "execution_count": 45,
   "id": "7fb9db7a",
   "metadata": {},
   "outputs": [
    {
     "name": "stdout",
     "output_type": "stream",
     "text": [
      "50\n"
     ]
    }
   ],
   "source": [
    "# Print the number 50 from the array\n",
    "print(a[1,0])"
   ]
  },
  {
   "cell_type": "code",
   "execution_count": null,
   "id": "b8ecd982",
   "metadata": {},
   "outputs": [],
   "source": []
  },
  {
   "cell_type": "code",
   "execution_count": 46,
   "id": "f684df83",
   "metadata": {},
   "outputs": [],
   "source": [
    "#%#%#%#%#%#%#%#%#%#\n",
    "# slicing arrays\n",
    "#%#%#%#%#%#%#%#%#%#"
   ]
  },
  {
   "cell_type": "code",
   "execution_count": 48,
   "id": "537684b0",
   "metadata": {},
   "outputs": [],
   "source": [
    "a = np.array([10,15,20,25,30,35,40])"
   ]
  },
  {
   "cell_type": "code",
   "execution_count": 49,
   "id": "bdf96abb",
   "metadata": {},
   "outputs": [],
   "source": [
    "# Insert the correct slicing syntax to print the following selection:"
   ]
  },
  {
   "cell_type": "code",
   "execution_count": 59,
   "id": "74831d55",
   "metadata": {},
   "outputs": [
    {
     "name": "stdout",
     "output_type": "stream",
     "text": [
      "[15 20 25]\n"
     ]
    }
   ],
   "source": [
    "# Slice from (including) the second item to (not including) the fifth item\n",
    "print(a[1:4]) # 15-25"
   ]
  },
  {
   "cell_type": "code",
   "execution_count": 60,
   "id": "eb36b6db",
   "metadata": {},
   "outputs": [
    {
     "name": "stdout",
     "output_type": "stream",
     "text": [
      "[20 25]\n"
     ]
    }
   ],
   "source": [
    "# Slice from (including) the third item to (not including) the fifth item\n",
    "print(a[2:4])# 20-25"
   ]
  },
  {
   "cell_type": "code",
   "execution_count": 61,
   "id": "63482926",
   "metadata": {},
   "outputs": [],
   "source": [
    "# Slice every other item from (including) the second item\n",
    "# to (not including) the fifth item."
   ]
  },
  {
   "cell_type": "code",
   "execution_count": 64,
   "id": "5507235b",
   "metadata": {},
   "outputs": [
    {
     "name": "stdout",
     "output_type": "stream",
     "text": [
      "[15 25]\n"
     ]
    }
   ],
   "source": [
    "print(a[1:5:2])"
   ]
  },
  {
   "cell_type": "code",
   "execution_count": null,
   "id": "a107f337",
   "metadata": {},
   "outputs": [],
   "source": [
    "# Slice every other item from the entire array"
   ]
  },
  {
   "cell_type": "code",
   "execution_count": 65,
   "id": "819829ca",
   "metadata": {},
   "outputs": [
    {
     "name": "stdout",
     "output_type": "stream",
     "text": [
      "[10 20 30 40]\n"
     ]
    }
   ],
   "source": [
    "print(a[::2])"
   ]
  },
  {
   "cell_type": "code",
   "execution_count": null,
   "id": "5ac77ec0",
   "metadata": {},
   "outputs": [],
   "source": []
  },
  {
   "cell_type": "code",
   "execution_count": 66,
   "id": "a000e227",
   "metadata": {},
   "outputs": [],
   "source": [
    "#%#%#%#%#%#%#%#%#%#\n",
    "# data types\n",
    "#%#%#%#%#%#%#%#%#%#"
   ]
  },
  {
   "cell_type": "code",
   "execution_count": 67,
   "id": "9095eac2",
   "metadata": {},
   "outputs": [],
   "source": [
    "# i = integer\n",
    "# b = boolean\n",
    "# u = unsigned integer\n",
    "# f = float\n",
    "# c = complex float\n",
    "# m = timedelta\n",
    "# M = datatime\n",
    "# O = object\n",
    "# S = string"
   ]
  },
  {
   "cell_type": "code",
   "execution_count": 68,
   "id": "1dafc8ba",
   "metadata": {},
   "outputs": [],
   "source": [
    "# Insert the correct NumPy syntax to print the data type of an array."
   ]
  },
  {
   "cell_type": "code",
   "execution_count": 69,
   "id": "5d41902a",
   "metadata": {},
   "outputs": [],
   "source": [
    "a = np.array([1,2,3,4])"
   ]
  },
  {
   "cell_type": "code",
   "execution_count": 70,
   "id": "b409d5ab",
   "metadata": {},
   "outputs": [
    {
     "name": "stdout",
     "output_type": "stream",
     "text": [
      "int64\n"
     ]
    }
   ],
   "source": [
    "print(a.dtype)"
   ]
  },
  {
   "cell_type": "code",
   "execution_count": 71,
   "id": "55793b7f",
   "metadata": {},
   "outputs": [],
   "source": [
    "# Insert the correct argument to specify \n",
    "# that the array should be of type STRING."
   ]
  },
  {
   "cell_type": "code",
   "execution_count": 73,
   "id": "99852b8e",
   "metadata": {},
   "outputs": [
    {
     "name": "stdout",
     "output_type": "stream",
     "text": [
      "|S1\n"
     ]
    }
   ],
   "source": [
    "a = np.array([1,2,3,4], dtype='S')\n",
    "print(a.dtype)"
   ]
  },
  {
   "cell_type": "code",
   "execution_count": 74,
   "id": "68bfd45e",
   "metadata": {},
   "outputs": [],
   "source": [
    "# Insert the correct method to change the data type to integer."
   ]
  },
  {
   "cell_type": "code",
   "execution_count": 75,
   "id": "06af651d",
   "metadata": {},
   "outputs": [
    {
     "name": "stdout",
     "output_type": "stream",
     "text": [
      "int32\n"
     ]
    }
   ],
   "source": [
    "a = arr.astype('i')\n",
    "print(a.dtype)"
   ]
  },
  {
   "cell_type": "code",
   "execution_count": null,
   "id": "832614df",
   "metadata": {},
   "outputs": [],
   "source": []
  },
  {
   "cell_type": "code",
   "execution_count": 76,
   "id": "5ef366f7",
   "metadata": {},
   "outputs": [],
   "source": [
    "#%#%#%#%#%#%#%#%#%#\n",
    "# copy vs view\n",
    "#%#%#%#%#%#%#%#%#%#"
   ]
  },
  {
   "cell_type": "code",
   "execution_count": 77,
   "id": "b0003c5f",
   "metadata": {},
   "outputs": [],
   "source": [
    "a = np.array([1,2,3,4,5])"
   ]
  },
  {
   "cell_type": "code",
   "execution_count": 78,
   "id": "c10f8df9",
   "metadata": {},
   "outputs": [],
   "source": [
    "# Make a copy of the array"
   ]
  },
  {
   "cell_type": "code",
   "execution_count": 84,
   "id": "9a4eb5ea",
   "metadata": {},
   "outputs": [
    {
     "name": "stdout",
     "output_type": "stream",
     "text": [
      "[1 2 3 4 5]\n"
     ]
    }
   ],
   "source": [
    "c = a.copy() # copy is a new array\n",
    "print(c)"
   ]
  },
  {
   "cell_type": "code",
   "execution_count": 83,
   "id": "759d3719",
   "metadata": {},
   "outputs": [
    {
     "name": "stdout",
     "output_type": "stream",
     "text": [
      "[1 2 3 4 5]\n"
     ]
    }
   ],
   "source": [
    "# Make a view of the array\n",
    "v = a.view() # view of the original array\n",
    "print(v)"
   ]
  },
  {
   "cell_type": "code",
   "execution_count": null,
   "id": "3a70e7ba",
   "metadata": {},
   "outputs": [],
   "source": []
  }
 ],
 "metadata": {
  "kernelspec": {
   "display_name": "Python 3",
   "language": "python",
   "name": "python3"
  },
  "language_info": {
   "codemirror_mode": {
    "name": "ipython",
    "version": 3
   },
   "file_extension": ".py",
   "mimetype": "text/x-python",
   "name": "python",
   "nbconvert_exporter": "python",
   "pygments_lexer": "ipython3",
   "version": "3.8.8"
  }
 },
 "nbformat": 4,
 "nbformat_minor": 5
}
